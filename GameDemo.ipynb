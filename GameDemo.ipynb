{
 "cells": [
  {
   "cell_type": "code",
   "execution_count": 27,
   "metadata": {},
   "outputs": [],
   "source": [
    "from socket import *\n",
    "from config import *\n",
    "import json"
   ]
  },
  {
   "cell_type": "code",
   "execution_count": 28,
   "metadata": {},
   "outputs": [],
   "source": [
    "class SnakeGame(object):\n",
    "    def __init__(self, seed_num=0):\n",
    "        super(SnakeGame, self).__init__()\n",
    "        self.seed_num = seed_num\n",
    "        print(f\"种子号为 {SEED_LIST[seed_num]}\")\n",
    "        self.conn = socket(AF_INET, SOCK_STREAM)\n",
    "        self.steps = 0\n",
    "        self.route = ''\n",
    "        \n",
    "    def __del__(self):\n",
    "        self.close()\n",
    "        \n",
    "    def connect(self, host=HOST, port=PORT):\n",
    "        try:\n",
    "            self.conn.connect((host, port))\n",
    "        except ConnectionRefusedError:\n",
    "            print(\"请先允许客户端文件 subg.client\")\n",
    "        else:\n",
    "            print(\"已经登入了种子岛\")\n",
    "\n",
    "    def pretty_print(self, view):\n",
    "        h = len(view)\n",
    "        w = len(view[0])\n",
    "        \n",
    "        for i in range(h):\n",
    "            line = [emoji_table[n] for n in view[i]]\n",
    "            line_print = \"\".join(line)\n",
    "            print(line_print)\n",
    "                \n",
    "    def look_around(self):\n",
    "        self.conn.send(b'g')\n",
    "        o = self.conn.recv(4096)\n",
    "        if not o:\n",
    "            print(\"游戏结束\")\n",
    "            self.summary()\n",
    "            return -1, -1, []\n",
    "        else:\n",
    "            x, y, view = json.loads(o.decode('utf-8')).values()\n",
    "            print(f\"当前蛇头在({x}, {y})\")\n",
    "            self.pretty_print(view)\n",
    "            return x, y, view\n",
    "\n",
    "    def move(self, move_char):\n",
    "        if move_char in ['w', 'a', 's', 'd']:\n",
    "            self.steps += 1\n",
    "            self.route += move_char\n",
    "            self.conn.send(bytes(move_char, encoding='utf-8'))\n",
    "            \n",
    "        else:\n",
    "            print(f\"Invalid move Command! ({move_char} not in 'wasd')\")\n",
    "        \n",
    "    \n",
    "    def wander(self, wander_str, after_see=False):\n",
    "        # check whether wander_str is valid\n",
    "        for move_char in wander_str:\n",
    "            if move_char not in ['w', 'a', 's', 'd']:\n",
    "                print(f\"Invalid move Command! ({move_char} not in 'wasd')\")\n",
    "                break\n",
    "        \n",
    "        for move_char in wander_str:\n",
    "            self.move(move_char)\n",
    "        if after_see:\n",
    "            self.look_around()\n",
    "            \n",
    "    def summary(self):\n",
    "        print(f'The route is {self.route}')\n",
    "        print(f\"All steps is {self.steps}\")\n",
    "        return self.steps, self.route\n",
    "        \n",
    "    def close(self):\n",
    "        self.conn.close()"
   ]
  },
  {
   "cell_type": "code",
   "execution_count": 29,
   "metadata": {},
   "outputs": [
    {
     "name": "stdout",
     "output_type": "stream",
     "text": [
      "种子号为 2020\n",
      "已经登入了种子岛\n"
     ]
    }
   ],
   "source": [
    "try:\n",
    "    if game:\n",
    "        game.close()\n",
    "except NameError:\n",
    "    pass\n",
    "game = SnakeGame()\n",
    "game.connect()"
   ]
  },
  {
   "cell_type": "code",
   "execution_count": 30,
   "metadata": {},
   "outputs": [
    {
     "name": "stdout",
     "output_type": "stream",
     "text": [
      "当前蛇头在(1, 1)\n",
      "🍄🍄🍄🍄🍄🍄\n",
      "🍄🐉⬜⬜🍄🍄\n",
      "🍄⬜⬜⬜⬜⬜\n",
      "🍄⬜❤️🍄⬜⬜\n",
      "🍄⬜⬜🍄⬜⬜\n",
      "🍄💞⬜⬜⬜🍄\n"
     ]
    }
   ],
   "source": [
    "game.look_around();"
   ]
  },
  {
   "cell_type": "code",
   "execution_count": 31,
   "metadata": {},
   "outputs": [
    {
     "name": "stdout",
     "output_type": "stream",
     "text": [
      "当前蛇头在(4, 2)\n",
      "🍄🍄🍄🍄🍄🍄🍄\n",
      "🍄⬜⬜⬜🍄🍄🍄\n",
      "🍄⬜⬜⬜⬜⬜⬜\n",
      "🍄🐍🐍🍄⬜⬜⬜\n",
      "🍄⬜🐉🍄⬜⬜⬜\n",
      "🍄💞⬜⬜⬜🍄⬜\n",
      "🍄⬜🍄🍄⬜⬜⬜\n",
      "🍄⬜❤️🍄🍄⬜🍄\n",
      "🍄🍄⬜⬜⬜⬜🍄\n"
     ]
    }
   ],
   "source": [
    "game.wander('ssds', after_see=True)"
   ]
  },
  {
   "cell_type": "code",
   "execution_count": null,
   "metadata": {},
   "outputs": [],
   "source": []
  }
 ],
 "metadata": {
  "kernelspec": {
   "display_name": "Python 3",
   "language": "python",
   "name": "python3"
  },
  "language_info": {
   "codemirror_mode": {
    "name": "ipython",
    "version": 3
   },
   "file_extension": ".py",
   "mimetype": "text/x-python",
   "name": "python",
   "nbconvert_exporter": "python",
   "pygments_lexer": "ipython3",
   "version": "3.7.3"
  }
 },
 "nbformat": 4,
 "nbformat_minor": 2
}
