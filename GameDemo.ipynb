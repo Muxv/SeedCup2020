{
 "cells": [
  {
   "cell_type": "code",
   "execution_count": 18,
   "metadata": {},
   "outputs": [],
   "source": [
    "from socket import *\n",
    "from config import *\n",
    "import json\n",
    "import numpy as np"
   ]
  },
  {
   "cell_type": "code",
   "execution_count": 19,
   "metadata": {},
   "outputs": [],
   "source": [
    "class SnakeGame(object):\n",
    "    def __init__(self, seed_num=0):\n",
    "        super(SnakeGame, self).__init__()\n",
    "        self.seed_num = seed_num\n",
    "        print(f\"种子号为 {SEED_LIST[seed_num]}\")\n",
    "        self.conn = socket(AF_INET, SOCK_STREAM)\n",
    "        self.steps = 0\n",
    "        self.route = ''\n",
    "        self.directions = ['w', 'a', 's', 'd']\n",
    "        self.head_abs = (0, 0)\n",
    "        self.head_view = []\n",
    "        \n",
    "    def __del__(self):\n",
    "        self.close()\n",
    "        \n",
    "    def connect(self, host=HOST, port=PORT):\n",
    "        try:\n",
    "            self.conn.connect((host, port))\n",
    "        except ConnectionRefusedError:\n",
    "            print(\"请先允许客户端文件 subg.client\")\n",
    "        else:\n",
    "            print(\"已经登入了种子岛\")\n",
    "\n",
    "    def pretty_print(self, view):\n",
    "        h = len(view)\n",
    "        w = len(view[0])\n",
    "        \n",
    "        for i in range(h):\n",
    "            line = [emoji_table[n] for n in view[i]]\n",
    "            line_print = \"\".join(line)\n",
    "            print(line_print)\n",
    "                \n",
    "    def look_around(self, show_view=True):\n",
    "        self.conn.send(b'g')\n",
    "        o = self.conn.recv(4096)\n",
    "        if not o:\n",
    "            print(\"游戏结束\")\n",
    "            self.summary()\n",
    "            if show_view:\n",
    "                self.pretty_print(self.head_view)\n",
    "            return -1, -1, []\n",
    "        else:\n",
    "            x, y, view = json.loads(o.decode('utf-8')).values()\n",
    "            print(f\"当前蛇头在({x}, {y})\")\n",
    "            if show_view:\n",
    "                self.pretty_print(view)\n",
    "            self.head_abs = (x, y)\n",
    "            self.head_view = np.array(view)\n",
    "\n",
    "    def move(self, move_char):\n",
    "        if move_char in self.directions:\n",
    "            self.steps += 1\n",
    "            self.route += move_char\n",
    "            self.conn.send(bytes(move_char, encoding='utf-8'))\n",
    "            \n",
    "        else:\n",
    "            print(f\"Invalid move Command! ({move_char} not in 'wasd')\")\n",
    "        \n",
    "    \n",
    "    def wander(self, wander_str, show_view=True):\n",
    "        # check whether wander_str is valid\n",
    "        for move_char in wander_str:\n",
    "            if move_char not in self.directions:\n",
    "                print(f\"Invalid move Command! ({move_char} not in 'wasd')\")\n",
    "                break\n",
    "        \n",
    "        for move_char in wander_str:\n",
    "            self.move(move_char)\n",
    "        \n",
    "        self.look_around(show_view=show_view)\n",
    "            \n",
    "    def findroute_bydir(self, direction='d', distance=1):\n",
    "        \"\"\"walk by one direction for 5 distance\n",
    "        if next step is DEATH, then take the vertical direction\n",
    "        just use the **first** view\n",
    "        \n",
    "        But not take the route\n",
    "        \"\"\"    \n",
    "        head_rel = self.find_head_rel()\n",
    "        route = ''\n",
    "            \n",
    "        print(f\"Now take step to Dir {direction} for {distance} distance\")\n",
    "        \n",
    "        if direction not in self.directions:\n",
    "            print(f\"Invalid direction! ({direction} not in 'wasd')\")\n",
    "        else:\n",
    "            dir_num = self.directions.index(direction)\n",
    "            ver_direction = [self.directions[i] for i in range(4) if i != dir_num and i != (dir_num + 2) % 4]\n",
    "                        \n",
    "            d = ''\n",
    "            i = 0\n",
    "            while i < distance:\n",
    "                if self.head_view[set_add(head_rel, dir_xy[direction])] not in DEATH:\n",
    "                    d = direction\n",
    "                    i += 1\n",
    "                elif self.head_view[set_add(head_rel, dir_xy[ver_direction[0]])] not in DEATH:\n",
    "                    d = ver_direction[0]\n",
    "                elif self.head_view[set_add(head_rel, dir_xy[ver_direction[1]])] not in DEATH:\n",
    "                    d = ver_direction[1]\n",
    "                else:\n",
    "                    print(\"Dead End WARNING!!!\")\n",
    "                    break\n",
    "                    \n",
    "                head_rel = set_add(head_rel, dir_xy[d])\n",
    "                route += d\n",
    "                \n",
    "        return route\n",
    "            \n",
    "    def find_head_rel(self):\n",
    "        head_x_rel, head_y_rel = np.where(self.head_view == HEAD)\n",
    "        head_x_rel = head_x_rel[0]\n",
    "        head_y_rel = head_y_rel[0]\n",
    "        return (head_x_rel, head_y_rel)\n",
    "    \n",
    "    def summary(self):\n",
    "        print(f'The route is {self.route}')\n",
    "        print(f\"All steps is {self.steps}\")\n",
    "        return self.steps, self.route\n",
    "        \n",
    "    def close(self):\n",
    "        self.conn.close()"
   ]
  },
  {
   "cell_type": "code",
   "execution_count": 20,
   "metadata": {},
   "outputs": [
    {
     "name": "stdout",
     "output_type": "stream",
     "text": [
      "种子号为 2020\n",
      "已经登入了种子岛\n"
     ]
    }
   ],
   "source": [
    "try:\n",
    "    if game:\n",
    "        game.close()\n",
    "except NameError:\n",
    "    pass\n",
    "game = SnakeGame()\n",
    "game.connect()"
   ]
  },
  {
   "cell_type": "code",
   "execution_count": 27,
   "metadata": {},
   "outputs": [
    {
     "name": "stdout",
     "output_type": "stream",
     "text": [
      "当前蛇头在(5, 1)\n",
      "🍄⬜⬜⬜🍄🍄\n",
      "🍄⬜⬜⬜⬜⬜\n",
      "🍄⬜❤️🍄⬜⬜\n",
      "🍄🐍⬜🍄⬜⬜\n",
      "🍄🐉⬜⬜⬜🍄\n",
      "🍄⬜🍄🍄⬜⬜\n",
      "🍄⬜❤️🍄🍄⬜\n",
      "🍄🍄⬜⬜⬜⬜\n",
      "🍄⬜🍄⬜🍄⬜\n"
     ]
    }
   ],
   "source": [
    "game.look_around();"
   ]
  },
  {
   "cell_type": "code",
   "execution_count": 32,
   "metadata": {},
   "outputs": [
    {
     "name": "stdout",
     "output_type": "stream",
     "text": [
      "Help on class filter in module builtins:\n",
      "\n",
      "class filter(object)\n",
      " |  filter(function or None, iterable) --> filter object\n",
      " |  \n",
      " |  Return an iterator yielding those items of iterable for which function(item)\n",
      " |  is true. If function is None, return the items that are true.\n",
      " |  \n",
      " |  Methods defined here:\n",
      " |  \n",
      " |  __getattribute__(self, name, /)\n",
      " |      Return getattr(self, name).\n",
      " |  \n",
      " |  __iter__(self, /)\n",
      " |      Implement iter(self).\n",
      " |  \n",
      " |  __next__(self, /)\n",
      " |      Implement next(self).\n",
      " |  \n",
      " |  __reduce__(...)\n",
      " |      Return state information for pickling.\n",
      " |  \n",
      " |  ----------------------------------------------------------------------\n",
      " |  Static methods defined here:\n",
      " |  \n",
      " |  __new__(*args, **kwargs) from builtins.type\n",
      " |      Create and return a new object.  See help(type) for accurate signature.\n",
      "\n"
     ]
    }
   ],
   "source": [
    "filter(lambda x : x == 's', )"
   ]
  },
  {
   "cell_type": "code",
   "execution_count": 29,
   "metadata": {},
   "outputs": [
    {
     "name": "stdout",
     "output_type": "stream",
     "text": [
      "Now take step to Dir s for 4 distance\n",
      "ssdsds\n",
      "Bad Direction\n"
     ]
    }
   ],
   "source": [
    "route = game.walk_bydir('s', distance=4)\n",
    "print(route)\n",
    "if len(route.f) < 4:\n",
    "    print(\"Bad Direction\")\n",
    "else:\n",
    "    game.wander(route)"
   ]
  },
  {
   "cell_type": "code",
   "execution_count": 17,
   "metadata": {},
   "outputs": [
    {
     "name": "stdout",
     "output_type": "stream",
     "text": [
      "Now take step to Dir s for 2 distance\n",
      "Dead End WARNING!!!\n",
      "当前蛇头在(9, 3)\n",
      "🍄🐍⬜⬜⬜🍄⬜⬜\n",
      "🍄🐍🍄🍄⬜⬜⬜🍄\n",
      "🍄🐍🐍🍄🍄⬜🍄⬜\n",
      "🍄🍄🐍🐍⬜⬜🍄🍄\n",
      "🍄⬜🍄🐉🍄⬜⬜⬜\n",
      "🍄🍄❤️🍄⬜⬜⬜⬜\n",
      "🍄⬜💞⬜⬜⬜⬜❤️\n",
      "🍄⬜⬜⬜⬜⬜🍄⬜\n",
      "🍄⬜⬜🍄🍄❤️⬜🍄\n"
     ]
    }
   ],
   "source": [
    "route = game.walk_bydir('s', distance=2)\n",
    "game.wander(route)"
   ]
  },
  {
   "cell_type": "code",
   "execution_count": 11,
   "metadata": {},
   "outputs": [
    {
     "name": "stdout",
     "output_type": "stream",
     "text": [
      "当前蛇头在(1, 9)\n",
      "🍄🍄🍄🍄🍄🍄🍄🍄🍄\n",
      "🍄🍄⬜⬜🐉⬜❤️⬜⬜\n",
      "⬜⬜⬜🐍🐍⬜⬜⬜⬜\n",
      "⬜⬜⬜❤️⬜⬜⬜❤️⬜\n",
      "⬜⬜🍄⬜⬜⬜⬜⬜⬜\n",
      "🍄⬜⬜⬜🍄⬜⬜❤️⬜\n"
     ]
    }
   ],
   "source": [
    "game.wander('w', show_view=True)"
   ]
  },
  {
   "cell_type": "code",
   "execution_count": 12,
   "metadata": {},
   "outputs": [
    {
     "name": "stdout",
     "output_type": "stream",
     "text": [
      "Now take step to Dir d for 4 distance\n",
      "['w', 's']\n",
      "当前蛇头在(1, 13)\n",
      "🍄🍄🍄🍄🍄🍄🍄🍄🍄\n",
      "⬜🐍🐍🐍🐉⬜❤️🍄⬜\n",
      "⬜⬜⬜⬜⬜⬜❤️⬜🍄\n",
      "⬜⬜⬜❤️⬜⬜🍄❤️⬜\n",
      "⬜⬜⬜⬜⬜⬜⬜🍄❤️\n",
      "🍄⬜⬜❤️⬜🍄🍄⬜⬜\n"
     ]
    }
   ],
   "source": [
    "route = game.walk_bydir('d', distance=4)\n",
    "game.wander(route)"
   ]
  },
  {
   "cell_type": "code",
   "execution_count": 13,
   "metadata": {},
   "outputs": [
    {
     "name": "stdout",
     "output_type": "stream",
     "text": [
      "Now take step to Dir d for 4 distance\n",
      "['w', 's']\n",
      "当前蛇头在(3, 17)\n",
      "🍄🍄🍄🍄🍄🍄🍄🍄🍄\n",
      "🐍🐍🐍🍄⬜🍄⬜⬜⬜\n",
      "⬜⬜🐍🐍🍄⬜❤️⬜⬜\n",
      "⬜⬜🍄🐍🐉⬜⬜⬜💞\n",
      "⬜⬜⬜🍄❤️⬜❤️🛹🍄\n",
      "⬜🍄🍄⬜⬜💞🍄💞🍄\n",
      "💞⬜⬜⬜❤️❤️⬜⬜⬜\n",
      "⬜⬜⬜⬜⬜⬜⬜⬜⬜\n"
     ]
    }
   ],
   "source": [
    "route = game.walk_bydir('d', distance=4)\n",
    "game.wander(route)"
   ]
  },
  {
   "cell_type": "code",
   "execution_count": 14,
   "metadata": {},
   "outputs": [
    {
     "name": "stdout",
     "output_type": "stream",
     "text": [
      "Now take step to Dir s for 4 distance\n",
      "['a', 'd']\n",
      "当前蛇头在(7, 17)\n",
      "⬜⬜🍄🐍🐍⬜⬜⬜💞\n",
      "⬜⬜⬜🍄🐍⬜❤️🛹🍄\n",
      "⬜🍄🍄⬜🐍💞🍄💞🍄\n",
      "💞⬜⬜⬜🐍❤️⬜⬜⬜\n",
      "⬜⬜⬜⬜🐉⬜⬜⬜⬜\n",
      "⬜💚💞🍄💞💚💞🍄🍄\n",
      "❤️🍄⬜⬜⬜⬜⬜⬜⬜\n",
      "🍄⬜❤️⬜⬜💞⬜⬜⬜\n",
      "💞⬜❤️💞🍄🍄⬜❤️🍄\n"
     ]
    }
   ],
   "source": [
    "route = game.walk_bydir('s', distance=4)\n",
    "game.wander(route)"
   ]
  },
  {
   "cell_type": "code",
   "execution_count": 17,
   "metadata": {},
   "outputs": [
    {
     "name": "stdout",
     "output_type": "stream",
     "text": [
      "Now take step to Dir s for 4 distance\n",
      "['a', 'd']\n",
      "游戏结束\n",
      "The route is ddsddddddwddddddsdsdsssssssasaaaassass\n",
      "All steps is 38\n"
     ]
    }
   ],
   "source": [
    "route = game.walk_bydir('s', distance=4)\n",
    "game.wander(route)"
   ]
  },
  {
   "cell_type": "code",
   "execution_count": null,
   "metadata": {},
   "outputs": [],
   "source": []
  }
 ],
 "metadata": {
  "kernelspec": {
   "display_name": "Python 3",
   "language": "python",
   "name": "python3"
  },
  "language_info": {
   "codemirror_mode": {
    "name": "ipython",
    "version": 3
   },
   "file_extension": ".py",
   "mimetype": "text/x-python",
   "name": "python",
   "nbconvert_exporter": "python",
   "pygments_lexer": "ipython3",
   "version": "3.7.3"
  }
 },
 "nbformat": 4,
 "nbformat_minor": 2
}
