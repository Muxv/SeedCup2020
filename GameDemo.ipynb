{
 "cells": [
  {
   "cell_type": "code",
   "execution_count": 1,
   "metadata": {},
   "outputs": [],
   "source": [
    "from socket import *\n",
    "from config import *\n",
    "import json\n",
    "import numpy as np"
   ]
  },
  {
   "cell_type": "code",
   "execution_count": 6,
   "metadata": {},
   "outputs": [],
   "source": [
    "class SnakeGame(object):\n",
    "    def __init__(self, seed_num=0):\n",
    "        super(SnakeGame, self).__init__()\n",
    "        self.seed_num = seed_num\n",
    "        print(f\"种子号为 {SEED_LIST[seed_num]}\")\n",
    "        self.conn = socket(AF_INET, SOCK_STREAM)\n",
    "        self.steps = 0\n",
    "        self.route = ''\n",
    "        self.directions = ['w', 'a', 's', 'd']\n",
    "        self.head_abs = (0, 0)\n",
    "        self.head_view = []\n",
    "        \n",
    "    def __del__(self):\n",
    "        self.close()\n",
    "        \n",
    "    def connect(self, host=HOST, port=PORT):\n",
    "        try:\n",
    "            self.conn.connect((host, port))\n",
    "        except ConnectionRefusedError:\n",
    "            print(\"请先允许客户端文件 subg.client\")\n",
    "        else:\n",
    "            print(\"已经登入了种子岛\")\n",
    "\n",
    "    def pretty_print(self, view):\n",
    "        h = len(view)\n",
    "        w = len(view[0])\n",
    "        \n",
    "        for i in range(h):\n",
    "            line = [emoji_table[n] for n in view[i]]\n",
    "            line_print = \"\".join(line)\n",
    "            print(line_print)\n",
    "                \n",
    "    def look_around(self):\n",
    "        self.conn.send(b'g')\n",
    "        o = self.conn.recv(4096)\n",
    "        if not o:\n",
    "            print(\"游戏结束\")\n",
    "            self.summary()\n",
    "            return -1, -1, []\n",
    "        else:\n",
    "            x, y, view = json.loads(o.decode('utf-8')).values()\n",
    "            print(f\"当前蛇头在({x}, {y})\")\n",
    "            self.pretty_print(view)\n",
    "            self.head_abs = (x, y)\n",
    "            self.head_view = np.array(view)\n",
    "\n",
    "    def move(self, move_char):\n",
    "        if move_char in self.directions:\n",
    "            self.steps += 1\n",
    "            self.route += move_char\n",
    "            self.conn.send(bytes(move_char, encoding='utf-8'))\n",
    "            \n",
    "        else:\n",
    "            print(f\"Invalid move Command! ({move_char} not in 'wasd')\")\n",
    "        \n",
    "    \n",
    "    def wander(self, wander_str, after_see=False):\n",
    "        # check whether wander_str is valid\n",
    "        for move_char in wander_str:\n",
    "            if move_char not in self.directions:\n",
    "                print(f\"Invalid move Command! ({move_char} not in 'wasd')\")\n",
    "                break\n",
    "        \n",
    "        for move_char in wander_str:\n",
    "            self.move(move_char)\n",
    "        if after_see:\n",
    "            self.look_around()\n",
    "            \n",
    "    def walk_bydir(self, direction='d', distance=1):\n",
    "        \"\"\"walk by one direction for 5 distance\n",
    "        if next step is DEATH, then take the vertical direction\n",
    "        just use the **first** view\n",
    "        \"\"\"    \n",
    "        head_rel = self.find_head_rel()\n",
    "        route = ''\n",
    "            \n",
    "        print(f\"Now take step to Dir {direction} for {distance} distance\")\n",
    "        \n",
    "        if direction not in self.directions:\n",
    "            print(f\"Invalid direction! ({direction} not in 'wasd')\")\n",
    "        else:\n",
    "            dir_num = self.directions.index(direction)\n",
    "            ver_direction = [self.directions[i] for i in range(4) if i != dir_num and i != (dir_num + 2) % 4]\n",
    "            \n",
    "            print(ver_direction)\n",
    "            \n",
    "            d = ''\n",
    "            i = 0\n",
    "            while i < distance:\n",
    "                if self.head_view[set_add(head_rel, dir_xy[direction])] not in DEATH:\n",
    "                    d = direction\n",
    "                    i += 1\n",
    "                elif self.head_view[set_add(head_rel, dir_xy[ver_direction[0]])] not in DEATH:\n",
    "                    d = ver_direction[0]\n",
    "                elif self.head_view[set_add(head_rel, dir_xy[ver_direction[1]])] not in DEATH:\n",
    "                    d = ver_direction[1]\n",
    "                else:\n",
    "                    print(\"Dead End WARNING!!!\")\n",
    "                    break\n",
    "                    \n",
    "#                 print(f\"d is {d}\")\n",
    "#                 print(f\"Head: {head_rel}  xychange: {dir_xy[d]}\")\n",
    "#                 print(f\"Next Head is {set_add(head_rel, dir_xy[d])}\")\n",
    "                    \n",
    "                head_rel = set_add(head_rel, dir_xy[d])\n",
    "                route += d\n",
    "                \n",
    "        return route\n",
    "            \n",
    "    def find_head_rel(self):\n",
    "        head_x_rel, head_y_rel = np.where(self.head_view == HEAD)\n",
    "        head_x_rel = head_x_rel[0]\n",
    "        head_y_rel = head_y_rel[0]\n",
    "        return (head_x_rel, head_y_rel)\n",
    "    \n",
    "    def summary(self):\n",
    "        print(f'The route is {self.route}')\n",
    "        print(f\"All steps is {self.steps}\")\n",
    "        return self.steps, self.route\n",
    "        \n",
    "    def close(self):\n",
    "        self.conn.close()"
   ]
  },
  {
   "cell_type": "code",
   "execution_count": 7,
   "metadata": {},
   "outputs": [
    {
     "name": "stdout",
     "output_type": "stream",
     "text": [
      "种子号为 2020\n",
      "已经登入了种子岛\n"
     ]
    }
   ],
   "source": [
    "try:\n",
    "    if game:\n",
    "        game.close()\n",
    "except NameError:\n",
    "    pass\n",
    "game = SnakeGame()\n",
    "game.connect()"
   ]
  },
  {
   "cell_type": "code",
   "execution_count": 8,
   "metadata": {},
   "outputs": [
    {
     "name": "stdout",
     "output_type": "stream",
     "text": [
      "当前蛇头在(1, 1)\n",
      "🍄🍄🍄🍄🍄🍄\n",
      "🍄🐉⬜⬜🍄🍄\n",
      "🍄⬜⬜⬜⬜⬜\n",
      "🍄⬜❤️🍄⬜⬜\n",
      "🍄⬜⬜🍄⬜⬜\n",
      "🍄💞⬜⬜⬜🍄\n"
     ]
    }
   ],
   "source": [
    "game.look_around();"
   ]
  },
  {
   "cell_type": "code",
   "execution_count": 9,
   "metadata": {},
   "outputs": [
    {
     "name": "stdout",
     "output_type": "stream",
     "text": [
      "Now take step to Dir d for 4 distance\n",
      "['w', 's']\n",
      "0\n",
      "d is d\n",
      "Head: (1, 1)  xychange: (0, 1)\n",
      "Next Head is (1, 2)\n",
      "0\n",
      "d is d\n",
      "Head: (1, 2)  xychange: (0, 1)\n",
      "Next Head is (1, 3)\n",
      "d is s\n",
      "Head: (1, 3)  xychange: (1, 0)\n",
      "Next Head is (2, 3)\n",
      "0\n",
      "d is d\n",
      "Head: (2, 3)  xychange: (0, 1)\n",
      "Next Head is (2, 4)\n",
      "0\n",
      "d is d\n",
      "Head: (2, 4)  xychange: (0, 1)\n",
      "Next Head is (2, 5)\n"
     ]
    },
    {
     "data": {
      "text/plain": [
       "'ddsdd'"
      ]
     },
     "execution_count": 9,
     "metadata": {},
     "output_type": "execute_result"
    }
   ],
   "source": [
    "game.walk_bydir('d', distance=4)"
   ]
  },
  {
   "cell_type": "code",
   "execution_count": 32,
   "metadata": {},
   "outputs": [
    {
     "data": {
      "text/plain": [
       "1"
      ]
     },
     "execution_count": 32,
     "metadata": {},
     "output_type": "execute_result"
    }
   ],
   "source": [
    "game.head_view[(1, 4)]"
   ]
  },
  {
   "cell_type": "code",
   "execution_count": 30,
   "metadata": {},
   "outputs": [
    {
     "data": {
      "text/plain": [
       "array([[ 1,  1,  1,  1,  1,  1],\n",
       "       [ 1, 12,  0,  0,  1,  1],\n",
       "       [ 1,  0,  0,  0,  0,  0],\n",
       "       [ 1,  0,  5,  1,  0,  0],\n",
       "       [ 1,  0,  0,  1,  0,  0],\n",
       "       [ 1,  6,  0,  0,  0,  1]])"
      ]
     },
     "execution_count": 30,
     "metadata": {},
     "output_type": "execute_result"
    }
   ],
   "source": [
    "game.head_view"
   ]
  },
  {
   "cell_type": "code",
   "execution_count": 19,
   "metadata": {},
   "outputs": [
    {
     "data": {
      "text/plain": [
       "(1, 1)"
      ]
     },
     "execution_count": 19,
     "metadata": {},
     "output_type": "execute_result"
    }
   ],
   "source": [
    "game.find_head_rel()"
   ]
  },
  {
   "cell_type": "code",
   "execution_count": 43,
   "metadata": {},
   "outputs": [
    {
     "name": "stdout",
     "output_type": "stream",
     "text": [
      "当前蛇头在(6, 6)\n",
      "⬜⬜⬜⬜⬜❤️⬜⬜⬜\n",
      "⬜🍄⬜⬜⬜⬜❤️⬜⬜\n",
      "⬜🍄⬜⬜⬜🍄⬜⬜⬜\n",
      "⬜⬜⬜🍄⬜⬜⬜🍄⬜\n",
      "🍄🍄🐍🐍🐉🍄⬜⬜⬜\n",
      "❤️🍄🍄⬜🍄⬜💞⬜❤️\n",
      "⬜⬜⬜⬜🍄🍄⬜⬜⬜\n",
      "🍄⬜🍄⬜⬜⬜⬜⬜⬜\n",
      "❤️🍄⬜⬜⬜⬜⬜⬜⬜\n"
     ]
    }
   ],
   "source": [
    "x, y, view = game.look_around()"
   ]
  },
  {
   "cell_type": "code",
   "execution_count": 48,
   "metadata": {},
   "outputs": [
    {
     "name": "stdout",
     "output_type": "stream",
     "text": [
      "当前蛇头在(5, 4)\n",
      "🍄⬜⬜⬜🍄🍄🍄⬜⬜\n",
      "🍄⬜⬜⬜⬜⬜⬜❤️⬜\n",
      "🍄⬜⬜🍄⬜⬜⬜⬜❤️\n",
      "🍄⬜⬜🍄🐍🐍⬜🍄⬜\n",
      "🍄💞⬜⬜🐉🍄⬜⬜⬜\n",
      "🍄⬜🍄🍄⬜⬜⬜🍄⬜\n",
      "🍄⬜❤️🍄🍄⬜🍄⬜💞\n",
      "🍄🍄⬜⬜⬜⬜🍄🍄⬜\n",
      "🍄⬜🍄⬜🍄⬜⬜⬜⬜\n"
     ]
    }
   ],
   "source": [
    "game.wander('s', after_see=True)"
   ]
  },
  {
   "cell_type": "code",
   "execution_count": 14,
   "metadata": {},
   "outputs": [],
   "source": [
    "import numpy as np"
   ]
  },
  {
   "cell_type": "code",
   "execution_count": 33,
   "metadata": {},
   "outputs": [],
   "source": [
    "view_array = np.array(view)\n",
    "head_x_rel, head_y_rel = np.where(view_array == 12)\n",
    "head_x_rel = head_x_rel[0]\n",
    "head_y_rel = head_y_rel[0]\n",
    "\n"
   ]
  },
  {
   "cell_type": "code",
   "execution_count": null,
   "metadata": {},
   "outputs": [],
   "source": []
  },
  {
   "cell_type": "code",
   "execution_count": 31,
   "metadata": {},
   "outputs": [
    {
     "data": {
      "text/plain": [
       "array([4], dtype=int64)"
      ]
     },
     "execution_count": 31,
     "metadata": {},
     "output_type": "execute_result"
    }
   ],
   "source": [
    "x_rel"
   ]
  },
  {
   "cell_type": "code",
   "execution_count": null,
   "metadata": {},
   "outputs": [],
   "source": []
  }
 ],
 "metadata": {
  "kernelspec": {
   "display_name": "Python 3",
   "language": "python",
   "name": "python3"
  },
  "language_info": {
   "codemirror_mode": {
    "name": "ipython",
    "version": 3
   },
   "file_extension": ".py",
   "mimetype": "text/x-python",
   "name": "python",
   "nbconvert_exporter": "python",
   "pygments_lexer": "ipython3",
   "version": "3.7.3"
  }
 },
 "nbformat": 4,
 "nbformat_minor": 2
}
