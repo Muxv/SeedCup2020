{
 "cells": [
  {
   "cell_type": "markdown",
   "metadata": {},
   "source": [
    "## 贪吃蛇 homework_1\n",
    "### 任务要求\n",
    "\n",
    "- 填写代码时记得删掉原有的`pass`语句\n",
    "\n",
    "- 启动socket连接客户端, 成功进行视野查看和移动命令操作\n",
    "    - 解析传来的byte(包括正常数据和游戏结束数据)\n",
    "- 封装到 `class` SnakeGame 中\n",
    "    - 封装socket连接, 发送b`g`, 解析回传信息\n",
    "    - 封装发送位移信息, 包括单步位移和连续多部位移"
   ]
  },
  {
   "cell_type": "markdown",
   "metadata": {},
   "source": [
    "### 1. 使用原生socket 进行数据解析"
   ]
  },
  {
   "cell_type": "code",
   "execution_count": null,
   "metadata": {},
   "outputs": [],
   "source": [
    "from socket import *\n",
    "# config 为项目所需的全局参数\n",
    "from config import *\n",
    "import json"
   ]
  },
  {
   "cell_type": "code",
   "execution_count": null,
   "metadata": {},
   "outputs": [],
   "source": [
    "### 理解以下代码 ###\n",
    "\n",
    "# 1. 初始化socket 对象\n",
    "ss = socket(AF_INET, SOCK_STREAM)\n",
    "# 2. 发送连接请求\n",
    "ss.connect((HOST, PORT))\n",
    "# 3. 发送查看视野请求\n",
    "ss.send(b'g')\n",
    "# 4. 接受回传信息\n",
    "res = ss.recv(4096)\n",
    "print(res)"
   ]
  },
  {
   "cell_type": "markdown",
   "metadata": {},
   "source": [
    "- 我们得到的回传信息是这样的 \n",
    "\n",
    "```python\n",
    ">> res = ss.recv(4096)\n",
    ">> res\n",
    "b'{\"x\":1,\"y\":1,\"view\":[[1,1,1,1,1,1],[1,12,0,0,1,1],[1,0,0,0,0,0],[1,0,5,1,0,0],[1,0,0,1,0,0],[1,6,0,0,0,1]]}'\n",
    "```\n",
    "- 我们需要提取传来的byte信息中的字典数据,并从中获取x, y, 以及视野信息\n",
    "    - 类似以下操作:\n",
    "    \n",
    "```python\n",
    ">> parse_recv(res)\n",
    ">> 1, 1, [[1,1,1,1,1,1],[1,12,0,0,1,1],[1,0,0,0,0,0],[1,0,5,1,0,0],[1,0,0,1,0,0],[1,6,0,0,0,1]]\n",
    "```"
   ]
  },
  {
   "cell_type": "code",
   "execution_count": null,
   "metadata": {},
   "outputs": [],
   "source": [
    "### 完成下列函数\n",
    "def parse_recv(recv):\n",
    "    \"\"\" parse the information received from Server\n",
    "    Atribute:\n",
    "        recv: byte information\n",
    "    \n",
    "    Return:\n",
    "        x: int  The X position of Snake head\n",
    "        y: int  The Y position of Snake head\n",
    "        view: list of list \n",
    "    \"\"\"\n",
    "    # deal with game over \n",
    "    x, y = 0, 0\n",
    "    view = []\n",
    "    if not recv:\n",
    "        return -1, -1, []\n",
    "    else:\n",
    "        ### 完成下面的代码 (约 1 行) ###\n",
    "        ### 提示： 使用json来解析 字符串化后的 文本\n",
    "        pass\n",
    "        ### 代码完成\n",
    "    return x, y, view "
   ]
  },
  {
   "cell_type": "code",
   "execution_count": null,
   "metadata": {},
   "outputs": [],
   "source": [
    "x, y, view = parse_recv(res)\n",
    "assert x == 1\n",
    "assert y == 1\n",
    "assert view == [[1, 1, 1, 1, 1, 1], [1, 12, 0, 0, 1, 1], [1, 0, 0, 0, 0, 0], [1, 0, 5, 1, 0, 0], [1, 0, 0, 1, 0, 0], [1, 6, 0, 0, 0, 1]]\n",
    "print(\"恭喜完成\")"
   ]
  },
  {
   "cell_type": "markdown",
   "metadata": {},
   "source": [
    "#### 若上述代码块没有抛出 `AssertionError` 证明你代码写对了ww(后续同理)\n",
    "\n",
    "#### 然后开始进行蛇的正常位移测试(测试下移一位)"
   ]
  },
  {
   "cell_type": "code",
   "execution_count": null,
   "metadata": {},
   "outputs": [],
   "source": [
    "### 完成下面的代码 (约 3 行) ###\n",
    "### 提示： 利用socket 发送 's'信息，再发送'g'信息, 并将传入的信息保存为res\n",
    "pass\n",
    "### 代码完成\n",
    "x, y, view = parse_recv(res)\n",
    "assert x == 2\n",
    "assert y == 1\n",
    "assert view == [[1,1,1,1,1,1],[1,8,0,0,1,1],[1,12,0,0,0,0],[1,0,5,1,0,0],[1,0,0,1,0,0],[1,6,0,0,0,1],[1,0,1,1,0,0]]\n",
    "print(\"恭喜完成\")"
   ]
  },
  {
   "cell_type": "markdown",
   "metadata": {},
   "source": [
    "### 2. 封装为游戏类\n",
    "- 游戏类要保有我们的socket 连接 \n",
    "- 游戏类要封装 查看视野, 单步移动, 多步移动\n",
    "- 游戏类要具有视野的可视化功能(已经完成)\n",
    "- 游戏类要保存已经走过的步数, 和走过的每一步"
   ]
  },
  {
   "cell_type": "code",
   "execution_count": null,
   "metadata": {},
   "outputs": [],
   "source": [
    "class SnakeGame(object):\n",
    "    def __init__(self):\n",
    "        super(SnakeGame, self).__init__()\n",
    "        # 下面存储了socket 连接信息, 步数， 每一步\n",
    "        self.conn = socket(AF_INET, SOCK_STREAM)\n",
    "        self.steps = 0\n",
    "        self.route = ''\n",
    "                \n",
    "    def connect(self, host=HOST, port=PORT):\n",
    "        try:\n",
    "            ### 完成下面的代码 (约 1 行) ###\n",
    "            ### 提示：使用成员变量conn完成连接, host与port为传入的参数\n",
    "            pass        \n",
    "            ### 代码完成\n",
    "        except ConnectionRefusedError:\n",
    "            print(\"请先允许客户端文件 subg.client\")\n",
    "        else:\n",
    "            print(\"已经登入了种子岛\")\n",
    "\n",
    "    def pretty_print(self, view):\n",
    "        # 可视化打印\n",
    "        h = len(view)\n",
    "        w = len(view[0])\n",
    "        \n",
    "        for i in range(h):\n",
    "            line = [emoji_table[n] for n in view[i]]\n",
    "            line_print = \"\".join(line)\n",
    "            print(line_print)\n",
    "                \n",
    "    def look_around(self):\n",
    "        # 封装查看周围信息\n",
    "        self.conn.send(b'g')\n",
    "        o = self.conn.recv(4096)\n",
    "        if not o:\n",
    "            ### 完成下面的代码 (约 >= 1 行) ###\n",
    "            ### 提示：完成 parse_recv 中的处理游戏结束传来的空信息(至少包含return)\n",
    "            pass\n",
    "            ### 代码完成\n",
    "        else:\n",
    "            x, y, view = 0, 0, []\n",
    "            \n",
    "            ### 完成下面的代码 (约 1 行) ###\n",
    "            ### 提示：完成 parse_recv 中的解析byte信息部分\n",
    "            pass\n",
    "            ### 代码完成\n",
    "            \n",
    "            print(f\"当前蛇头在({x}, {y})\")\n",
    "            self.pretty_print(view)\n",
    "            return x, y, view\n",
    "\n",
    "    def move(self, move_char):\n",
    "        if move_char not in ['w', 'a', 's', 'd']:\n",
    "            print(f\"Invalid move Command! ({move_char} not in 'wasd')\")\n",
    "        else:\n",
    "            self.steps += 1\n",
    "            self.route += move_char\n",
    "            ### 完成下面的代码 (约 1 行) ###\n",
    "            ### 提示：将传入的str转换为byte信息发送给服务器\n",
    "            pass\n",
    "            ### 代码完成\n",
    "    \n",
    "    def wander(self, wander_str, after_see=False):\n",
    "        # check whether wander_str is valid\n",
    "        for move_char in wander_str:\n",
    "            if move_char not in ['w', 'a', 's', 'd']:\n",
    "                print(f\"Invalid move Command! ({move_char} not in 'wasd')\")\n",
    "                break\n",
    "        \n",
    "        for move_char in wander_str:\n",
    "            self.move(move_char)\n",
    "        if after_see:\n",
    "            self.look_around()"
   ]
  },
  {
   "cell_type": "code",
   "execution_count": null,
   "metadata": {},
   "outputs": [],
   "source": [
    "game = SnakeGame()\n",
    "game.connect()\n",
    "x, y, view = game.look_around()\n",
    "\n",
    "assert x == 1\n",
    "assert y == 1\n",
    "assert view == [[1, 1, 1, 1, 1, 1], [1, 12, 0, 0, 1, 1], [1, 0, 0, 0, 0, 0], [1, 0, 5, 1, 0, 0], [1, 0, 0, 1, 0, 0], [1, 6, 0, 0, 0, 1]]\n",
    "print(\"恭喜完成\")"
   ]
  },
  {
   "cell_type": "code",
   "execution_count": null,
   "metadata": {},
   "outputs": [],
   "source": [
    "game.move('s')\n",
    "x, y, view = game.look_around()\n",
    "assert x == 2\n",
    "assert y == 1\n",
    "assert view == [[1,1,1,1,1,1],[1,8,0,0,1,1],[1,12,0,0,0,0],[1,0,5,1,0,0],[1,0,0,1,0,0],[1,6,0,0,0,1],[1,0,1,1,0,0]]\n",
    "print(\"恭喜完成\")"
   ]
  },
  {
   "cell_type": "code",
   "execution_count": null,
   "metadata": {},
   "outputs": [],
   "source": []
  }
 ],
 "metadata": {
  "kernelspec": {
   "display_name": "Python 3",
   "language": "python",
   "name": "python3"
  },
  "language_info": {
   "codemirror_mode": {
    "name": "ipython",
    "version": 3
   },
   "file_extension": ".py",
   "mimetype": "text/x-python",
   "name": "python",
   "nbconvert_exporter": "python",
   "pygments_lexer": "ipython3",
   "version": "3.7.3"
  }
 },
 "nbformat": 4,
 "nbformat_minor": 2
}
