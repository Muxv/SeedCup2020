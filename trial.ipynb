{
 "cells": [
  {
   "cell_type": "code",
   "execution_count": 1,
   "metadata": {},
   "outputs": [],
   "source": [
    "from socket import *\n",
    "from config import *\n",
    "import json"
   ]
  },
  {
   "cell_type": "code",
   "execution_count": 2,
   "metadata": {},
   "outputs": [
    {
     "name": "stdout",
     "output_type": "stream",
     "text": [
      "Seed number is 2020\n"
     ]
    },
    {
     "data": {
      "text/plain": [
       "b'{\"x\":1,\"y\":1,\"view\":[[1,1,1,1,1,1],[1,12,0,0,1,1],[1,0,0,0,0,0],[1,0,5,1,0,0],[1,0,0,1,0,0],[1,6,0,0,0,1]]}'"
      ]
     },
     "execution_count": 2,
     "metadata": {},
     "output_type": "execute_result"
    }
   ],
   "source": [
    "seed_num = 0\n",
    "print(f\"Seed number is {SEED_LIST[seed_num]}\")\n",
    "\n",
    "s = socket(AF_INET, SOCK_STREAM)\n",
    "s.connect((HOST, PORT))\n",
    "s.send(b'g')\n",
    "res = s.recv(4096)\n",
    "res"
   ]
  },
  {
   "cell_type": "code",
   "execution_count": 3,
   "metadata": {},
   "outputs": [
    {
     "data": {
      "text/plain": [
       "[[1, 1, 1, 1, 1, 1],\n",
       " [1, 12, 0, 0, 1, 1],\n",
       " [1, 0, 0, 0, 0, 0],\n",
       " [1, 0, 5, 1, 0, 0],\n",
       " [1, 0, 0, 1, 0, 0],\n",
       " [1, 6, 0, 0, 0, 1]]"
      ]
     },
     "execution_count": 3,
     "metadata": {},
     "output_type": "execute_result"
    }
   ],
   "source": [
    "x, y, view = json.loads(res.decode('utf-8')).values()\n",
    "view"
   ]
  },
  {
   "cell_type": "code",
   "execution_count": 4,
   "metadata": {},
   "outputs": [
    {
     "data": {
      "text/plain": [
       "[[1, 1, 1, 1, 1, 1, 1],\n",
       " [1, 0, 0, 0, 1, 1, 1],\n",
       " [1, 0, 8, 0, 0, 0, 0],\n",
       " [1, 0, 12, 1, 0, 0, 0],\n",
       " [1, 0, 0, 1, 0, 0, 0],\n",
       " [1, 6, 0, 0, 0, 1, 0],\n",
       " [1, 0, 1, 1, 0, 0, 0],\n",
       " [1, 0, 5, 1, 1, 0, 1]]"
      ]
     },
     "execution_count": 4,
     "metadata": {},
     "output_type": "execute_result"
    }
   ],
   "source": [
    "s.send(b'd')\n",
    "s.send(b's')\n",
    "s.send(b's')\n",
    "s.send(b'g')\n",
    "res = s.recv(4096)\n",
    "x, y, view = json.loads(res.decode('utf-8')).values()\n",
    "view"
   ]
  },
  {
   "cell_type": "code",
   "execution_count": 5,
   "metadata": {},
   "outputs": [
    {
     "data": {
      "text/plain": [
       "[[1, 0, 0, 0, 1, 1],\n",
       " [1, 0, 0, 0, 0, 0],\n",
       " [1, 0, 0, 1, 0, 0],\n",
       " [1, 0, 8, 1, 0, 0],\n",
       " [1, 12, 8, 0, 0, 1],\n",
       " [1, 0, 1, 1, 0, 0],\n",
       " [1, 0, 5, 1, 1, 0],\n",
       " [1, 1, 0, 0, 0, 0],\n",
       " [1, 0, 1, 0, 1, 0]]"
      ]
     },
     "execution_count": 5,
     "metadata": {},
     "output_type": "execute_result"
    }
   ],
   "source": [
    "s.send(b's')\n",
    "s.send(b's')\n",
    "s.send(b'a')\n",
    "s.send(b'g')\n",
    "res = s.recv(4096)\n",
    "x, y, view = json.loads(res.decode('utf-8')).values()\n",
    "view"
   ]
  },
  {
   "cell_type": "code",
   "execution_count": 6,
   "metadata": {},
   "outputs": [
    {
     "data": {
      "text/plain": [
       "[[1, 0, 0, 0, 0, 0],\n",
       " [1, 0, 0, 1, 0, 0],\n",
       " [1, 0, 8, 1, 0, 0],\n",
       " [1, 8, 8, 0, 0, 1],\n",
       " [1, 12, 1, 1, 0, 0],\n",
       " [1, 0, 5, 1, 1, 0],\n",
       " [1, 1, 0, 0, 0, 0],\n",
       " [1, 0, 1, 0, 1, 0],\n",
       " [1, 1, 5, 1, 0, 0]]"
      ]
     },
     "execution_count": 6,
     "metadata": {},
     "output_type": "execute_result"
    }
   ],
   "source": [
    "s.send(b's')\n",
    "s.send(b'g')\n",
    "res = s.recv(4096)\n",
    "x, y, view = json.loads(res.decode('utf-8')).values()\n",
    "view"
   ]
  },
  {
   "cell_type": "code",
   "execution_count": null,
   "metadata": {},
   "outputs": [],
   "source": []
  }
 ],
 "metadata": {
  "kernelspec": {
   "display_name": "Python 3",
   "language": "python",
   "name": "python3"
  },
  "language_info": {
   "codemirror_mode": {
    "name": "ipython",
    "version": 3
   },
   "file_extension": ".py",
   "mimetype": "text/x-python",
   "name": "python",
   "nbconvert_exporter": "python",
   "pygments_lexer": "ipython3",
   "version": "3.7.3"
  }
 },
 "nbformat": 4,
 "nbformat_minor": 2
}
