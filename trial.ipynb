{
 "cells": [
  {
   "cell_type": "code",
   "execution_count": 1,
   "metadata": {},
   "outputs": [],
   "source": [
    "from socket import *\n",
    "from config import *\n",
    "import json"
   ]
  },
  {
   "cell_type": "code",
   "execution_count": 2,
   "metadata": {},
   "outputs": [],
   "source": [
    "class SeedSocket(object):\n",
    "    def __init__(self, seed_num=0):\n",
    "        super().__init__()\n",
    "        self.seed_num = seed_num\n",
    "        print(f\"种子号为 {SEED_LIST[seed_num]}\")\n",
    "        self.conn = socket(AF_INET, SOCK_STREAM)\n",
    "        \n",
    "    def connect(self, host=HOST, port=PORT):\n",
    "        try:\n",
    "            self.conn.connect((host, port))\n",
    "        except ConnectionRefusedError:\n",
    "            print(\"请先允许客户端文件 subg.client\")\n",
    "        else:\n",
    "            print(\"已经登入了种子岛\")\n",
    "\n",
    "    def pretty_print(self, view):\n",
    "        h = len(view)\n",
    "        w = len(view[0])\n",
    "        \n",
    "        for i in range(h):\n",
    "            line = [emoji_table[n] for n in view[i]]\n",
    "            line_print = \"\".join(line)\n",
    "            print(line_print)\n",
    "                \n",
    "    def look_around(self):\n",
    "        self.conn.send(b'g')\n",
    "        o = self.conn.recv(4096)\n",
    "        x, y, view = json.loads(o.decode('utf-8')).values()\n",
    "        print(f\"当前蛇头在({x}, {y})\")\n",
    "        self.pretty_print(view)\n",
    "        return x, y, view\n",
    "        \n",
    "    def move(self, move_char):\n",
    "        assert move_char in ['w', 'a', 's', 'd']\n",
    "        ss.conn.send(bytes(move_char, encoding='utf-8'))\n",
    "        \n",
    "    def close(self):\n",
    "        self.conn.close()"
   ]
  },
  {
   "cell_type": "code",
   "execution_count": 3,
   "metadata": {},
   "outputs": [
    {
     "name": "stdout",
     "output_type": "stream",
     "text": [
      "种子号为 2020\n",
      "已经登入了种子岛\n",
      "当前蛇头在(1, 1)\n",
      "🍄🍄🍄🍄🍄🍄\n",
      "🍄🐉⬜⬜🍄🍄\n",
      "🍄⬜⬜⬜⬜⬜\n",
      "🍄⬜❤️🍄⬜⬜\n",
      "🍄⬜⬜🍄⬜⬜\n",
      "🍄💞⬜⬜⬜🍄\n",
      "当前蛇头在(3, 2)\n",
      "🍄🍄🍄🍄🍄🍄🍄\n",
      "🍄⬜⬜⬜🍄🍄🍄\n",
      "🍄⬜🐍⬜⬜⬜⬜\n",
      "🍄⬜🐉🍄⬜⬜⬜\n",
      "🍄⬜⬜🍄⬜⬜⬜\n",
      "🍄💞⬜⬜⬜🍄⬜\n",
      "🍄⬜🍄🍄⬜⬜⬜\n",
      "🍄⬜❤️🍄🍄⬜🍄\n",
      "当前蛇头在(5, 1)\n",
      "🍄⬜⬜⬜🍄🍄\n",
      "🍄⬜⬜⬜⬜⬜\n",
      "🍄⬜⬜🍄⬜⬜\n",
      "🍄⬜🐍🍄⬜⬜\n",
      "🍄🐉🐍⬜⬜🍄\n",
      "🍄⬜🍄🍄⬜⬜\n",
      "🍄⬜❤️🍄🍄⬜\n",
      "🍄🍄⬜⬜⬜⬜\n",
      "🍄⬜🍄⬜🍄⬜\n"
     ]
    }
   ],
   "source": [
    "ss = SeedSocket()\n",
    "ss.connect()\n",
    "x, y, view = ss.look_around();\n",
    "ss.move('d')\n",
    "ss.move('s')\n",
    "ss.move('s')\n",
    "x, y, view = ss.look_around();\n",
    "ss.move('s')\n",
    "ss.move('s')\n",
    "ss.move('a')\n",
    "x, y, view = ss.look_around();"
   ]
  },
  {
   "cell_type": "code",
   "execution_count": 4,
   "metadata": {},
   "outputs": [
    {
     "name": "stdout",
     "output_type": "stream",
     "text": [
      "当前蛇头在(3, 2)\n",
      "🍄🍄🍄🍄🍄🍄🍄\n",
      "🍄⬜⬜⬜🍄🍄🍄\n",
      "🍄⬜😉⬜⬜⬜⬜\n",
      "🍄⬜🐍🍄⬜⬜⬜\n",
      "🍄⬜⬜🍄⬜⬜⬜\n",
      "🍄💞⬜⬜⬜🍄⬜\n",
      "🍄⬜🍄🍄⬜⬜⬜\n",
      "🍄⬜❤️🍄🍄⬜🍄\n"
     ]
    },
    {
     "data": {
      "text/plain": [
       "(3,\n",
       " 2,\n",
       " [[1, 1, 1, 1, 1, 1, 1],\n",
       "  [1, 0, 0, 0, 1, 1, 1],\n",
       "  [1, 0, 8, 0, 0, 0, 0],\n",
       "  [1, 0, 12, 1, 0, 0, 0],\n",
       "  [1, 0, 0, 1, 0, 0, 0],\n",
       "  [1, 6, 0, 0, 0, 1, 0],\n",
       "  [1, 0, 1, 1, 0, 0, 0],\n",
       "  [1, 0, 5, 1, 1, 0, 1]])"
      ]
     },
     "execution_count": 4,
     "metadata": {},
     "output_type": "execute_result"
    }
   ],
   "source": []
  },
  {
   "cell_type": "code",
   "execution_count": 5,
   "metadata": {},
   "outputs": [
    {
     "name": "stdout",
     "output_type": "stream",
     "text": [
      "当前蛇头在(5, 1)\n",
      "🍄⬜⬜⬜🍄🍄\n",
      "🍄⬜⬜⬜⬜⬜\n",
      "🍄⬜⬜🍄⬜⬜\n",
      "🍄⬜😉🍄⬜⬜\n",
      "🍄🐍😉⬜⬜🍄\n",
      "🍄⬜🍄🍄⬜⬜\n",
      "🍄⬜❤️🍄🍄⬜\n",
      "🍄🍄⬜⬜⬜⬜\n",
      "🍄⬜🍄⬜🍄⬜\n"
     ]
    },
    {
     "data": {
      "text/plain": [
       "(5,\n",
       " 1,\n",
       " [[1, 0, 0, 0, 1, 1],\n",
       "  [1, 0, 0, 0, 0, 0],\n",
       "  [1, 0, 0, 1, 0, 0],\n",
       "  [1, 0, 8, 1, 0, 0],\n",
       "  [1, 12, 8, 0, 0, 1],\n",
       "  [1, 0, 1, 1, 0, 0],\n",
       "  [1, 0, 5, 1, 1, 0],\n",
       "  [1, 1, 0, 0, 0, 0],\n",
       "  [1, 0, 1, 0, 1, 0]])"
      ]
     },
     "execution_count": 5,
     "metadata": {},
     "output_type": "execute_result"
    }
   ],
   "source": []
  },
  {
   "cell_type": "code",
   "execution_count": 6,
   "metadata": {},
   "outputs": [
    {
     "data": {
      "text/plain": [
       "[[1, 0, 0, 0, 0, 0],\n",
       " [1, 0, 0, 1, 0, 0],\n",
       " [1, 0, 8, 1, 0, 0],\n",
       " [1, 8, 8, 0, 0, 1],\n",
       " [1, 12, 1, 1, 0, 0],\n",
       " [1, 0, 5, 1, 1, 0],\n",
       " [1, 1, 0, 0, 0, 0],\n",
       " [1, 0, 1, 0, 1, 0],\n",
       " [1, 1, 5, 1, 0, 0]]"
      ]
     },
     "execution_count": 6,
     "metadata": {},
     "output_type": "execute_result"
    }
   ],
   "source": [
    "s.send(b's')\n",
    "s.send(b'g')\n",
    "res = s.recv(4096)\n",
    "x, y, view = json.loads(res.decode('utf-8')).values()\n",
    "view"
   ]
  },
  {
   "cell_type": "code",
   "execution_count": 13,
   "metadata": {},
   "outputs": [],
   "source": [
    "import random"
   ]
  },
  {
   "cell_type": "code",
   "execution_count": 19,
   "metadata": {},
   "outputs": [
    {
     "name": "stdout",
     "output_type": "stream",
     "text": [
      "14\n"
     ]
    }
   ],
   "source": [
    "s = random.randint(1, 25)\n",
    "while s in [5, 6, 7]:\n",
    "    s = random.randint(1, 25)\n",
    "\n",
    "print(s)"
   ]
  },
  {
   "cell_type": "code",
   "execution_count": 6,
   "metadata": {},
   "outputs": [],
   "source": [
    "a = 'b'"
   ]
  },
  {
   "cell_type": "code",
   "execution_count": 10,
   "metadata": {},
   "outputs": [
    {
     "data": {
      "text/plain": [
       "b'b'"
      ]
     },
     "execution_count": 10,
     "metadata": {},
     "output_type": "execute_result"
    }
   ],
   "source": [
    "bytes(a, encoding='utf-8')"
   ]
  },
  {
   "cell_type": "code",
   "execution_count": null,
   "metadata": {},
   "outputs": [],
   "source": []
  }
 ],
 "metadata": {
  "kernelspec": {
   "display_name": "Python 3",
   "language": "python",
   "name": "python3"
  },
  "language_info": {
   "codemirror_mode": {
    "name": "ipython",
    "version": 3
   },
   "file_extension": ".py",
   "mimetype": "text/x-python",
   "name": "python",
   "nbconvert_exporter": "python",
   "pygments_lexer": "ipython3",
   "version": "3.7.3"
  }
 },
 "nbformat": 4,
 "nbformat_minor": 2
}
